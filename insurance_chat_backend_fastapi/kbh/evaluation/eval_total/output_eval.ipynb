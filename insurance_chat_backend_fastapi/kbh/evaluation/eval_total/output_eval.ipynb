{
 "cells": [
  {
   "cell_type": "markdown",
   "id": "7d85abac",
   "metadata": {},
   "source": [
    "# 1. 변수설정(.env 파일에 키를 입력하세요.)"
   ]
  },
  {
   "cell_type": "code",
   "execution_count": null,
   "id": "0f97d478",
   "metadata": {},
   "outputs": [
    {
     "data": {
      "text/plain": [
       "True"
      ]
     },
     "execution_count": 3,
     "metadata": {},
     "output_type": "execute_result"
    }
   ],
   "source": [
    "from openai import OpenAI\n",
    "import pandas as pd\n",
    "from datasets import Dataset\n",
    "from ragas.metrics import faithfulness, answer_relevancy, context_precision, context_recall\n",
    "from ragas import evaluate\n",
    "from datetime import datetime\n",
    "import langchain_openai\n",
    "from langchain.embeddings import OpenAIEmbeddings\n",
    "from ragas.embeddings import LangchainEmbeddingsWrapper\n",
    "import os\n",
    "from dotenv import load_dotenv\n",
    "load_dotenv()  # .env 파일 로드"
   ]
  },
  {
   "cell_type": "code",
   "execution_count": 4,
   "id": "2f4d7d7f",
   "metadata": {},
   "outputs": [],
   "source": [
    "OPENAI_API_KEY = os.getenv('OPENAI_API_KEY')"
   ]
  },
  {
   "cell_type": "markdown",
   "id": "b7621625",
   "metadata": {},
   "source": [
    "# 2. 테스트할 답변생성 코드 작성"
   ]
  },
  {
   "cell_type": "code",
   "execution_count": null,
   "id": "ed463fd0",
   "metadata": {},
   "outputs": [],
   "source": [
    "# 테스트할 답변생성 코드 작성\n"
   ]
  },
  {
   "cell_type": "markdown",
   "id": "9f23834f",
   "metadata": {},
   "source": [
    "# 3. 테스트 수행"
   ]
  },
  {
   "cell_type": "code",
   "execution_count": null,
   "id": "5bf93aa6",
   "metadata": {},
   "outputs": [],
   "source": [
    "def answer_generate(prompt, model_name, api_key=None):\n",
    "    if \"gpt\" in model_name:\n",
    "        client = OpenAI(api_key=api_key)\n",
    "        messages = [{\n",
    "            \"role\": \"system\",\n",
    "            \"content\": \"You are an assistant that generates helpful responses based on the user's request.\"\n",
    "        },\n",
    "        {\n",
    "            \"role\": \"user\",\n",
    "            \"content\": prompt\n",
    "        }\n",
    "        ]\n",
    "        response = client.chat.completions.create(model=model_name, messages=messages, temperature=0)\n",
    "        answer = response.choices[0].message.content\n",
    "        return answer\n",
    "    else:\n",
    "        raise Exception(\"gpt 전용 답변생성 함수 입니다.\")"
   ]
  },
  {
   "cell_type": "markdown",
   "id": "c2e6f6b3",
   "metadata": {},
   "source": [
    "# 4. 테스트 수행(context, prompt 변수를 테스트 코드에 맞게 수정합니다.)"
   ]
  },
  {
   "cell_type": "code",
   "execution_count": null,
   "id": "dbd46330",
   "metadata": {},
   "outputs": [],
   "source": [
    "# 생성모델명\n",
    "model_name = 'gpt-4.1-mini'\n",
    "ragas_emb_model_name = \"text-embedding-3-small\"\n",
    "\n",
    "# 1. eval_set 로딩\n",
    "df = pd.read_csv(\"./evaluation_data/eval_set.csv\", encoding='utf-8-sig')\n",
    "\n",
    "# 2. 문서 검색 및 답변 생성\n",
    "questions, ground_truths, answers, contexts = [], [], [], []\n",
    "\n",
    "for i, row in df.iterrows():\n",
    "    query = row['input']\n",
    "    ground_truth = row['output']\n",
    "\n",
    "    # 리트리버 결과들의 리스트 타입 데이터를 context 변수로 합니다.\n",
    "    context = ['리트리버 결과 1', '리트리버 결과 2']\n",
    "\n",
    "    # query와 리트리버 결과 포함한 텍스트를 prompt 변수로 합니다.\n",
    "    prompt = query + '리트리버 결과를 포함한 텍스트'\n",
    "\n",
    "    answer = answer_generate(prompt, model_name, OPENAI_API_KEY)\n",
    "    \n",
    "    # 기록\n",
    "    questions.append(query)\n",
    "    ground_truths.append(ground_truth)\n",
    "    answers.append(answer)\n",
    "    contexts.append(context)\n",
    "\n",
    "# 3. Ragas 입력 데이터셋 생성\n",
    "eval_dataset = Dataset.from_dict({\n",
    "    \"question\": questions,\n",
    "    \"answer\": answers,\n",
    "    \"contexts\": contexts,\n",
    "    \"ground_truth\": ground_truths,\n",
    "})\n",
    "\n",
    "# 4. RAGAS 평가 실행\n",
    "ragas_llm = langchain_openai.ChatOpenAI(model=model_name, api_key=OPENAI_API_KEY)\n",
    "openai_emb = OpenAIEmbeddings(model=ragas_emb_model_name, api_key=OPENAI_API_KEY)\n",
    "ragas_emb = LangchainEmbeddingsWrapper(openai_emb)\n",
    "\n",
    "result = evaluate(\n",
    "    eval_dataset,\n",
    "    metrics=[\n",
    "        faithfulness,\n",
    "        answer_relevancy,\n",
    "        context_precision,\n",
    "        context_recall\n",
    "    ],\n",
    "    llm=ragas_llm,\n",
    "    embeddings=ragas_emb,\n",
    "    batch_size=2\n",
    ")\n",
    "\n",
    "result_df = result.to_pandas()\n",
    "\n",
    "# 평균을 구할 특정 칼럼 목록\n",
    "target_columns = ['faithfulness', 'answer_relevancy', 'context_precision', 'context_recall']\n",
    "\n",
    "# 평균 행 생성\n",
    "mean_data = {col: result_df[col].mean() for col in target_columns}\n",
    "\n",
    "# 나머지 칼럼은 NaN 처리\n",
    "for col in result_df.columns:\n",
    "    if col not in mean_data:\n",
    "        mean_data[col] = None\n",
    "\n",
    "# 평균 행을 DataFrame에 추가\n",
    "result_df_with_mean = pd.concat([result_df, pd.DataFrame([mean_data], index=['평균'])])\n",
    "current_time = datetime.now().strftime(\"%Y%m%d%H%M%S\")\n",
    "result_df_with_mean.to_csv(f\"../../evaluation_data/eval_result_{current_time}.csv\", encoding=\"utf-8-sig\")\n",
    "\n",
    "# 전체점수 평균\n",
    "average_row = result_df_with_mean[target_columns].loc[\"평균\"]\n",
    "average_total = sum(average_row) / len(average_row)\n",
    "print(\"최종평가 전체점수 항목별 값:\", dict(average_row))\n",
    "print(\"최종평가 전체점수 평균:\", average_total)\n",
    "print(\"최종평가 데이터프레임\\n\")\n",
    "result_df_with_mean"
   ]
  }
 ],
 "metadata": {
  "kernelspec": {
   "display_name": "insbot_lx",
   "language": "python",
   "name": "python3"
  },
  "language_info": {
   "codemirror_mode": {
    "name": "ipython",
    "version": 3
   },
   "file_extension": ".py",
   "mimetype": "text/x-python",
   "name": "python",
   "nbconvert_exporter": "python",
   "pygments_lexer": "ipython3",
   "version": "3.11.11"
  }
 },
 "nbformat": 4,
 "nbformat_minor": 5
}
